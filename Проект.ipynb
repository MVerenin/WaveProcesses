{
 "cells": [
  {
   "cell_type": "markdown",
   "metadata": {},
   "source": [
    "# Двумерная система с VTI-анизотропией"
   ]
  },
  {
   "cell_type": "code",
   "execution_count": 2,
   "metadata": {},
   "outputs": [
    {
     "name": "stdout",
     "output_type": "stream",
     "text": [
      "Let's deal with 2D problem. Split along OX.\n",
      "The matrix Ax = \n"
     ]
    },
    {
     "data": {
      "text/latex": [
       "$\\displaystyle \\left[\\begin{matrix}0 & 0 & - \\frac{1}{\\rho} & 0 & 0\\\\0 & 0 & 0 & - \\frac{1}{\\rho} & 0\\\\- С_{11} & 0 & 0 & 0 & 0\\\\0 & - С_{44} & 0 & 0 & 0\\\\- С_{13} & 0 & 0 & 0 & 0\\end{matrix}\\right]$"
      ],
      "text/plain": [
       "⎡            -1         ⎤\n",
       "⎢ 0     0    ───   0   0⎥\n",
       "⎢             ρ         ⎥\n",
       "⎢                       ⎥\n",
       "⎢                 -1    ⎥\n",
       "⎢ 0     0     0   ───  0⎥\n",
       "⎢                  ρ    ⎥\n",
       "⎢                       ⎥\n",
       "⎢-С₁₁   0     0    0   0⎥\n",
       "⎢                       ⎥\n",
       "⎢ 0    -С₄₄   0    0   0⎥\n",
       "⎢                       ⎥\n",
       "⎣-С₁₃   0     0    0   0⎦"
      ]
     },
     "metadata": {},
     "output_type": "display_data"
    },
    {
     "name": "stdout",
     "output_type": "stream",
     "text": [
      "It has five eigenvalues: \n"
     ]
    },
    {
     "data": {
      "image/png": "[encoded data removed]",
      "text/latex": [
       "$\\displaystyle \\left\\{ 0 : 1, \\  - \\sqrt{\\frac{С_{11}}{\\rho}} : 1, \\  \\sqrt{\\frac{С_{11}}{\\rho}} : 1, \\  - \\sqrt{\\frac{С_{44}}{\\rho}} : 1, \\  \\sqrt{\\frac{С_{44}}{\\rho}} : 1\\right\\}$"
      ],
      "text/plain": [
       "⎧           _____         _____          _____         _____   ⎫\n",
       "⎪          ╱ С₁₁         ╱ С₁₁          ╱ С₄₄         ╱ С₄₄    ⎪\n",
       "⎨0: 1, -  ╱  ─── : 1,   ╱  ─── : 1, -  ╱  ─── : 1,   ╱  ─── : 1⎬\n",
       "⎪       ╲╱    ρ       ╲╱    ρ        ╲╱    ρ       ╲╱    ρ     ⎪\n",
       "⎩                                                              ⎭"
      ]
     },
     "metadata": {},
     "output_type": "display_data"
    },
    {
     "name": "stdout",
     "output_type": "stream",
     "text": [
      "It has five eigenvectors: \n"
     ]
    },
    {
     "data": {
      "text/latex": [
       "$\\displaystyle \\left[ \\left( 0, \\  1, \\  \\left[ \\left[\\begin{matrix}0\\\\0\\\\0\\\\0\\\\1\\end{matrix}\\right]\\right]\\right), \\  \\left( - \\sqrt{\\frac{С_{11}}{\\rho}}, \\  1, \\  \\left[ \\left[\\begin{matrix}\\frac{С_{11}}{\\rho С_{13} \\sqrt{\\frac{С_{11}}{\\rho}}}\\\\0\\\\\\frac{С_{11}}{С_{13}}\\\\0\\\\1\\end{matrix}\\right]\\right]\\right), \\  \\left( \\sqrt{\\frac{С_{11}}{\\rho}}, \\  1, \\  \\left[ \\left[\\begin{matrix}- \\frac{С_{11}}{\\rho С_{13} \\sqrt{\\frac{С_{11}}{\\rho}}}\\\\0\\\\\\frac{С_{11}}{С_{13}}\\\\0\\\\1\\end{matrix}\\right]\\right]\\right), \\  \\left( - \\sqrt{\\frac{С_{44}}{\\rho}}, \\  1, \\  \\left[ \\left[\\begin{matrix}0\\\\\\frac{1}{\\rho \\sqrt{\\frac{С_{44}}{\\rho}}}\\\\0\\\\1\\\\0\\end{matrix}\\right]\\right]\\right), \\  \\left( \\sqrt{\\frac{С_{44}}{\\rho}}, \\  1, \\  \\left[ \\left[\\begin{matrix}0\\\\- \\frac{1}{\\rho \\sqrt{\\frac{С_{44}}{\\rho}}}\\\\0\\\\1\\\\0\\end{matrix}\\right]\\right]\\right)\\right]$"
      ],
      "text/plain": [
       "⎡               ⎛               ⎡⎡      С₁₁      ⎤⎤⎞  ⎛              ⎡⎡     -С\n",
       "⎢               ⎜               ⎢⎢───────────────⎥⎥⎟  ⎜              ⎢⎢───────\n",
       "⎢               ⎜               ⎢⎢          _____⎥⎥⎟  ⎜              ⎢⎢       \n",
       "⎢               ⎜               ⎢⎢         ╱ С₁₁ ⎥⎥⎟  ⎜              ⎢⎢       \n",
       "⎢⎛      ⎡⎡0⎤⎤⎞  ⎜               ⎢⎢ρ⋅С₁₃⋅  ╱  ─── ⎥⎥⎟  ⎜              ⎢⎢ρ⋅С₁₃⋅ \n",
       "⎢⎜      ⎢⎢ ⎥⎥⎟  ⎜               ⎢⎢      ╲╱    ρ  ⎥⎥⎟  ⎜              ⎢⎢      ╲\n",
       "⎢⎜      ⎢⎢0⎥⎥⎟  ⎜     _____     ⎢⎢               ⎥⎥⎟  ⎜    _____     ⎢⎢       \n",
       "⎢⎜      ⎢⎢ ⎥⎥⎟  ⎜    ╱ С₁₁      ⎢⎢       0       ⎥⎥⎟  ⎜   ╱ С₁₁      ⎢⎢       \n",
       "⎢⎜0, 1, ⎢⎢0⎥⎥⎟, ⎜-  ╱  ─── , 1, ⎢⎢               ⎥⎥⎟, ⎜  ╱  ─── , 1, ⎢⎢       \n",
       "⎢⎜      ⎢⎢ ⎥⎥⎟  ⎜ ╲╱    ρ       ⎢⎢      С₁₁      ⎥⎥⎟  ⎜╲╱    ρ       ⎢⎢      С\n",
       "⎢⎜      ⎢⎢0⎥⎥⎟  ⎜               ⎢⎢      ───      ⎥⎥⎟  ⎜              ⎢⎢      ─\n",
       "⎢⎜      ⎢⎢ ⎥⎥⎟  ⎜               ⎢⎢      С₁₃      ⎥⎥⎟  ⎜              ⎢⎢      С\n",
       "⎢⎝      ⎣⎣1⎦⎦⎠  ⎜               ⎢⎢               ⎥⎥⎟  ⎜              ⎢⎢       \n",
       "⎢               ⎜               ⎢⎢       0       ⎥⎥⎟  ⎜              ⎢⎢       \n",
       "⎢               ⎜               ⎢⎢               ⎥⎥⎟  ⎜              ⎢⎢       \n",
       "⎣               ⎝               ⎣⎣       1       ⎦⎦⎠  ⎝              ⎣⎣       \n",
       "\n",
       "₁₁      ⎤⎤⎞                                                                   \n",
       "────────⎥⎥⎟  ⎛               ⎡⎡     0     ⎤⎤⎞  ⎛              ⎡⎡     0     ⎤⎤⎞\n",
       "   _____⎥⎥⎟  ⎜               ⎢⎢           ⎥⎥⎟  ⎜              ⎢⎢           ⎥⎥⎟\n",
       "  ╱ С₁₁ ⎥⎥⎟  ⎜               ⎢⎢     1     ⎥⎥⎟  ⎜              ⎢⎢    -1     ⎥⎥⎟\n",
       " ╱  ─── ⎥⎥⎟  ⎜               ⎢⎢───────────⎥⎥⎟  ⎜              ⎢⎢───────────⎥⎥⎟\n",
       "╱    ρ  ⎥⎥⎟  ⎜               ⎢⎢      _____⎥⎥⎟  ⎜              ⎢⎢      _____⎥⎥⎟\n",
       "        ⎥⎥⎟  ⎜     _____     ⎢⎢     ╱ С₄₄ ⎥⎥⎟  ⎜    _____     ⎢⎢     ╱ С₄₄ ⎥⎥⎟\n",
       "0       ⎥⎥⎟  ⎜    ╱ С₄₄      ⎢⎢ρ⋅  ╱  ─── ⎥⎥⎟  ⎜   ╱ С₄₄      ⎢⎢ρ⋅  ╱  ─── ⎥⎥⎟\n",
       "        ⎥⎥⎟, ⎜-  ╱  ─── , 1, ⎢⎢  ╲╱    ρ  ⎥⎥⎟, ⎜  ╱  ─── , 1, ⎢⎢  ╲╱    ρ  ⎥⎥⎟\n",
       "₁₁      ⎥⎥⎟  ⎜ ╲╱    ρ       ⎢⎢           ⎥⎥⎟  ⎜╲╱    ρ       ⎢⎢           ⎥⎥⎟\n",
       "──      ⎥⎥⎟  ⎜               ⎢⎢     0     ⎥⎥⎟  ⎜              ⎢⎢     0     ⎥⎥⎟\n",
       "₁₃      ⎥⎥⎟  ⎜               ⎢⎢           ⎥⎥⎟  ⎜              ⎢⎢           ⎥⎥⎟\n",
       "        ⎥⎥⎟  ⎜               ⎢⎢     1     ⎥⎥⎟  ⎜              ⎢⎢     1     ⎥⎥⎟\n",
       "0       ⎥⎥⎟  ⎜               ⎢⎢           ⎥⎥⎟  ⎜              ⎢⎢           ⎥⎥⎟\n",
       "        ⎥⎥⎟  ⎝               ⎣⎣     0     ⎦⎦⎠  ⎝              ⎣⎣     0     ⎦⎦⎠\n",
       "1       ⎦⎦⎠                                                                   \n",
       "\n",
       "⎤\n",
       "⎥\n",
       "⎥\n",
       "⎥\n",
       "⎥\n",
       "⎥\n",
       "⎥\n",
       "⎥\n",
       "⎥\n",
       "⎥\n",
       "⎥\n",
       "⎥\n",
       "⎥\n",
       "⎥\n",
       "⎥\n",
       "⎦"
      ]
     },
     "metadata": {},
     "output_type": "display_data"
    },
    {
     "name": "stdout",
     "output_type": "stream",
     "text": [
      "Matrix of eigenvalues LambdaX: \n"
     ]
    },
    {
     "data": {
      "text/latex": [
       "$\\displaystyle \\left[\\begin{matrix}0 & 0 & 0 & 0 & 0\\\\0 & - \\left(\\frac{С_{11}}{\\rho}\\right)^{0.5} & 0 & 0 & 0\\\\0 & 0 & \\left(\\frac{С_{11}}{\\rho}\\right)^{0.5} & 0 & 0\\\\0 & 0 & 0 & - \\left(\\frac{С_{44}}{\\rho}\\right)^{0.5} & 0\\\\0 & 0 & 0 & 0 & \\left(\\frac{С_{44}}{\\rho}\\right)^{0.5}\\end{matrix}\\right]$"
      ],
      "text/plain": [
       "⎡0      0         0          0         0    ⎤\n",
       "⎢                                           ⎥\n",
       "⎢         0.5                               ⎥\n",
       "⎢    ⎛С₁₁⎞                                  ⎥\n",
       "⎢0  -⎜───⎟        0          0         0    ⎥\n",
       "⎢    ⎝ ρ ⎠                                  ⎥\n",
       "⎢                                           ⎥\n",
       "⎢                   0.5                     ⎥\n",
       "⎢              ⎛С₁₁⎞                        ⎥\n",
       "⎢0      0      ⎜───⎟         0         0    ⎥\n",
       "⎢              ⎝ ρ ⎠                        ⎥\n",
       "⎢                                           ⎥\n",
       "⎢                              0.5          ⎥\n",
       "⎢                         ⎛С₄₄⎞             ⎥\n",
       "⎢0      0         0      -⎜───⎟        0    ⎥\n",
       "⎢                         ⎝ ρ ⎠             ⎥\n",
       "⎢                                           ⎥\n",
       "⎢                                        0.5⎥\n",
       "⎢                                   ⎛С₄₄⎞   ⎥\n",
       "⎢0      0         0          0      ⎜───⎟   ⎥\n",
       "⎣                                   ⎝ ρ ⎠   ⎦"
      ]
     },
     "metadata": {},
     "output_type": "display_data"
    },
    {
     "name": "stdout",
     "output_type": "stream",
     "text": [
      "OmegaX^(-1) matrix: \n"
     ]
    },
    {
     "data": {
      "text/latex": [
       "$\\displaystyle \\left[\\begin{matrix}0 & \\frac{С_{11}}{\\rho С_{13} \\left(\\frac{С_{11}}{\\rho}\\right)^{0.5}} & - \\frac{С_{11}}{\\rho С_{13} \\left(\\frac{С_{11}}{\\rho}\\right)^{0.5}} & 0 & 0\\\\0 & 0 & 0 & \\frac{1}{\\rho \\left(\\frac{С_{44}}{\\rho}\\right)^{0.5}} & - \\frac{1}{\\rho \\left(\\frac{С_{44}}{\\rho}\\right)^{0.5}}\\\\0 & \\frac{С_{11}}{С_{13}} & \\frac{С_{11}}{С_{13}} & 0 & 0\\\\0 & 0 & 0 & 1 & 1\\\\1 & 1 & 1 & 0 & 0\\end{matrix}\\right]$"
      ],
      "text/plain": [
       "⎡            -0.5            -0.5                         ⎤\n",
       "⎢       ⎛С₁₁⎞           ⎛С₁₁⎞                             ⎥\n",
       "⎢   С₁₁⋅⎜───⎟      -С₁₁⋅⎜───⎟                             ⎥\n",
       "⎢       ⎝ ρ ⎠           ⎝ ρ ⎠                             ⎥\n",
       "⎢0  ─────────────  ───────────────      0           0     ⎥\n",
       "⎢       ρ⋅С₁₃           ρ⋅С₁₃                             ⎥\n",
       "⎢                                                         ⎥\n",
       "⎢                                        -0.5        -0.5 ⎥\n",
       "⎢                                   ⎛С₄₄⎞       ⎛С₄₄⎞     ⎥\n",
       "⎢                                   ⎜───⎟      -⎜───⎟     ⎥\n",
       "⎢                                   ⎝ ρ ⎠       ⎝ ρ ⎠     ⎥\n",
       "⎢0        0               0         ─────────  ───────────⎥\n",
       "⎢                                       ρ           ρ     ⎥\n",
       "⎢                                                         ⎥\n",
       "⎢        С₁₁             С₁₁                              ⎥\n",
       "⎢0       ───             ───            0           0     ⎥\n",
       "⎢        С₁₃             С₁₃                              ⎥\n",
       "⎢                                                         ⎥\n",
       "⎢0        0               0             1           1     ⎥\n",
       "⎢                                                         ⎥\n",
       "⎣1        1               1             0           0     ⎦"
      ]
     },
     "metadata": {},
     "output_type": "display_data"
    },
    {
     "name": "stdout",
     "output_type": "stream",
     "text": [
      "OmegaX matrix: \n"
     ]
    },
    {
     "data": {
      "text/latex": [
       "$\\displaystyle \\left[\\begin{matrix}0 & 0 & - \\frac{С_{13}}{С_{11}} & 0 & 1\\\\\\frac{\\rho С_{13} \\left(\\frac{С_{11}}{\\rho}\\right)^{0.5}}{2 С_{11}} & 0 & \\frac{С_{13}}{2 С_{11}} & 0 & 0\\\\- \\frac{\\rho С_{13} \\left(\\frac{С_{11}}{\\rho}\\right)^{0.5}}{2 С_{11}} & 0 & \\frac{С_{13}}{2 С_{11}} & 0 & 0\\\\0 & \\frac{\\rho \\left(\\frac{С_{44}}{\\rho}\\right)^{0.5}}{2} & 0 & \\frac{1}{2} & 0\\\\0 & - \\frac{\\rho \\left(\\frac{С_{44}}{\\rho}\\right)^{0.5}}{2} & 0 & \\frac{1}{2} & 0\\end{matrix}\\right]$"
      ],
      "text/plain": [
       "⎡                                -С₁₃         ⎤\n",
       "⎢       0               0        ─────   0   1⎥\n",
       "⎢                                 С₁₁         ⎥\n",
       "⎢                                             ⎥\n",
       "⎢            0.5                              ⎥\n",
       "⎢       ⎛С₁₁⎞                                 ⎥\n",
       "⎢ ρ⋅С₁₃⋅⎜───⎟                                 ⎥\n",
       "⎢       ⎝ ρ ⎠                     С₁₃         ⎥\n",
       "⎢ ──────────────        0        ─────   0   0⎥\n",
       "⎢     2⋅С₁₁                      2⋅С₁₁        ⎥\n",
       "⎢                                             ⎥\n",
       "⎢            0.5                              ⎥\n",
       "⎢       ⎛С₁₁⎞                                 ⎥\n",
       "⎢-ρ⋅С₁₃⋅⎜───⎟                                 ⎥\n",
       "⎢       ⎝ ρ ⎠                     С₁₃         ⎥\n",
       "⎢────────────────       0        ─────   0   0⎥\n",
       "⎢     2⋅С₁₁                      2⋅С₁₁        ⎥\n",
       "⎢                                             ⎥\n",
       "⎢                          0.5                ⎥\n",
       "⎢                     ⎛С₄₄⎞                   ⎥\n",
       "⎢                   ρ⋅⎜───⎟                   ⎥\n",
       "⎢                     ⎝ ρ ⎠                   ⎥\n",
       "⎢       0           ──────────     0    1/2  0⎥\n",
       "⎢                       2                     ⎥\n",
       "⎢                                             ⎥\n",
       "⎢                          0.5                ⎥\n",
       "⎢                     ⎛С₄₄⎞                   ⎥\n",
       "⎢                  -ρ⋅⎜───⎟                   ⎥\n",
       "⎢                     ⎝ ρ ⎠                   ⎥\n",
       "⎢       0          ────────────    0    1/2  0⎥\n",
       "⎣                       2                     ⎦"
      ]
     },
     "metadata": {},
     "output_type": "display_data"
    },
    {
     "name": "stdout",
     "output_type": "stream",
     "text": [
      "OmegaX^(-1) * LambdaX * OmegaX: \n"
     ]
    },
    {
     "data": {
      "text/latex": [
       "$\\displaystyle \\left[\\begin{matrix}0 & 0 & - \\frac{1}{\\rho} & 0 & 0\\\\0 & 0 & 0 & - \\frac{1}{\\rho} & 0\\\\- \\rho \\left(\\frac{С_{11}}{\\rho}\\right)^{1.0} & 0 & 0 & 0 & 0\\\\0 & - \\rho \\left(\\frac{С_{44}}{\\rho}\\right)^{1.0} & 0 & 0 & 0\\\\- \\frac{\\rho С_{13} \\left(\\frac{С_{11}}{\\rho}\\right)^{1.0}}{С_{11}} & 0 & 0 & 0 & 0\\end{matrix}\\right]$"
      ],
      "text/plain": [
       "⎡                               -1         ⎤\n",
       "⎢       0               0       ───   0   0⎥\n",
       "⎢                                ρ         ⎥\n",
       "⎢                                          ⎥\n",
       "⎢                                    -1    ⎥\n",
       "⎢       0               0        0   ───  0⎥\n",
       "⎢                                     ρ    ⎥\n",
       "⎢                                          ⎥\n",
       "⎢          1.0                             ⎥\n",
       "⎢     ⎛С₁₁⎞                                ⎥\n",
       "⎢  -ρ⋅⎜───⎟             0        0    0   0⎥\n",
       "⎢     ⎝ ρ ⎠                                ⎥\n",
       "⎢                                          ⎥\n",
       "⎢                          1.0             ⎥\n",
       "⎢                     ⎛С₄₄⎞                ⎥\n",
       "⎢       0          -ρ⋅⎜───⎟      0    0   0⎥\n",
       "⎢                     ⎝ ρ ⎠                ⎥\n",
       "⎢                                          ⎥\n",
       "⎢            1.0                           ⎥\n",
       "⎢       ⎛С₁₁⎞                              ⎥\n",
       "⎢-ρ⋅С₁₃⋅⎜───⎟                              ⎥\n",
       "⎢       ⎝ ρ ⎠                              ⎥\n",
       "⎢────────────────       0        0    0   0⎥\n",
       "⎣      С₁₁                                 ⎦"
      ]
     },
     "metadata": {},
     "output_type": "display_data"
    },
    {
     "name": "stdout",
     "output_type": "stream",
     "text": [
      "Again, Ax: \n"
     ]
    },
    {
     "data": {
      "text/latex": [
       "$\\displaystyle \\left[\\begin{matrix}0 & 0 & - \\frac{1}{\\rho} & 0 & 0\\\\0 & 0 & 0 & - \\frac{1}{\\rho} & 0\\\\- С_{11} & 0 & 0 & 0 & 0\\\\0 & - С_{44} & 0 & 0 & 0\\\\- С_{13} & 0 & 0 & 0 & 0\\end{matrix}\\right]$"
      ],
      "text/plain": [
       "⎡            -1         ⎤\n",
       "⎢ 0     0    ───   0   0⎥\n",
       "⎢             ρ         ⎥\n",
       "⎢                       ⎥\n",
       "⎢                 -1    ⎥\n",
       "⎢ 0     0     0   ───  0⎥\n",
       "⎢                  ρ    ⎥\n",
       "⎢                       ⎥\n",
       "⎢-С₁₁   0     0    0   0⎥\n",
       "⎢                       ⎥\n",
       "⎢ 0    -С₄₄   0    0   0⎥\n",
       "⎢                       ⎥\n",
       "⎣-С₁₃   0     0    0   0⎦"
      ]
     },
     "metadata": {},
     "output_type": "display_data"
    },
    {
     "name": "stdout",
     "output_type": "stream",
     "text": [
      "Split along OY.\n",
      "The matrix Ay = \n"
     ]
    },
    {
     "data": {
      "text/latex": [
       "$\\displaystyle \\left[\\begin{matrix}0 & 0 & 0 & - \\frac{1}{\\rho} & 0\\\\0 & 0 & 0 & 0 & - \\frac{1}{\\rho}\\\\0 & - С_{13} & 0 & 0 & 0\\\\- С_{44} & 0 & 0 & 0 & 0\\\\0 & - С_{33} & 0 & 0 & 0\\end{matrix}\\right]$"
      ],
      "text/plain": [
       "⎡               -1      ⎤\n",
       "⎢ 0     0    0  ───   0 ⎥\n",
       "⎢                ρ      ⎥\n",
       "⎢                       ⎥\n",
       "⎢                    -1 ⎥\n",
       "⎢ 0     0    0   0   ───⎥\n",
       "⎢                     ρ ⎥\n",
       "⎢                       ⎥\n",
       "⎢ 0    -С₁₃  0   0    0 ⎥\n",
       "⎢                       ⎥\n",
       "⎢-С₄₄   0    0   0    0 ⎥\n",
       "⎢                       ⎥\n",
       "⎣ 0    -С₃₃  0   0    0 ⎦"
      ]
     },
     "metadata": {},
     "output_type": "display_data"
    },
    {
     "name": "stdout",
     "output_type": "stream",
     "text": [
      "It has five eigenvalues: \n"
     ]
    },
    {
     "data": {
      "image/png": "[encoded data removed]",
      "text/latex": [
       "$\\displaystyle \\left\\{ 0 : 1, \\  - \\sqrt{\\frac{С_{33}}{\\rho}} : 1, \\  \\sqrt{\\frac{С_{33}}{\\rho}} : 1, \\  - \\sqrt{\\frac{С_{44}}{\\rho}} : 1, \\  \\sqrt{\\frac{С_{44}}{\\rho}} : 1\\right\\}$"
      ],
      "text/plain": [
       "⎧           _____         _____          _____         _____   ⎫\n",
       "⎪          ╱ С₃₃         ╱ С₃₃          ╱ С₄₄         ╱ С₄₄    ⎪\n",
       "⎨0: 1, -  ╱  ─── : 1,   ╱  ─── : 1, -  ╱  ─── : 1,   ╱  ─── : 1⎬\n",
       "⎪       ╲╱    ρ       ╲╱    ρ        ╲╱    ρ       ╲╱    ρ     ⎪\n",
       "⎩                                                              ⎭"
      ]
     },
     "metadata": {},
     "output_type": "display_data"
    },
    {
     "name": "stdout",
     "output_type": "stream",
     "text": [
      "It has five eigenvectors: \n"
     ]
    },
    {
     "data": {
      "text/latex": [
       "$\\displaystyle \\left[ \\left( 0, \\  1, \\  \\left[ \\left[\\begin{matrix}0\\\\0\\\\1\\\\0\\\\0\\end{matrix}\\right]\\right]\\right), \\  \\left( - \\sqrt{\\frac{С_{33}}{\\rho}}, \\  1, \\  \\left[ \\left[\\begin{matrix}0\\\\\\frac{1}{\\rho \\sqrt{\\frac{С_{33}}{\\rho}}}\\\\\\frac{С_{13}}{С_{33}}\\\\0\\\\1\\end{matrix}\\right]\\right]\\right), \\  \\left( \\sqrt{\\frac{С_{33}}{\\rho}}, \\  1, \\  \\left[ \\left[\\begin{matrix}0\\\\- \\frac{1}{\\rho \\sqrt{\\frac{С_{33}}{\\rho}}}\\\\\\frac{С_{13}}{С_{33}}\\\\0\\\\1\\end{matrix}\\right]\\right]\\right), \\  \\left( - \\sqrt{\\frac{С_{44}}{\\rho}}, \\  1, \\  \\left[ \\left[\\begin{matrix}\\frac{1}{\\rho \\sqrt{\\frac{С_{44}}{\\rho}}}\\\\0\\\\0\\\\1\\\\0\\end{matrix}\\right]\\right]\\right), \\  \\left( \\sqrt{\\frac{С_{44}}{\\rho}}, \\  1, \\  \\left[ \\left[\\begin{matrix}- \\frac{1}{\\rho \\sqrt{\\frac{С_{44}}{\\rho}}}\\\\0\\\\0\\\\1\\\\0\\end{matrix}\\right]\\right]\\right)\\right]$"
      ],
      "text/plain": [
       "⎡               ⎛               ⎡⎡     0     ⎤⎤⎞  ⎛              ⎡⎡     0     \n",
       "⎢               ⎜               ⎢⎢           ⎥⎥⎟  ⎜              ⎢⎢           \n",
       "⎢               ⎜               ⎢⎢     1     ⎥⎥⎟  ⎜              ⎢⎢    -1     \n",
       "⎢               ⎜               ⎢⎢───────────⎥⎥⎟  ⎜              ⎢⎢───────────\n",
       "⎢⎛      ⎡⎡0⎤⎤⎞  ⎜               ⎢⎢      _____⎥⎥⎟  ⎜              ⎢⎢      _____\n",
       "⎢⎜      ⎢⎢ ⎥⎥⎟  ⎜               ⎢⎢     ╱ С₃₃ ⎥⎥⎟  ⎜              ⎢⎢     ╱ С₃₃ \n",
       "⎢⎜      ⎢⎢0⎥⎥⎟  ⎜     _____     ⎢⎢ρ⋅  ╱  ─── ⎥⎥⎟  ⎜    _____     ⎢⎢ρ⋅  ╱  ─── \n",
       "⎢⎜      ⎢⎢ ⎥⎥⎟  ⎜    ╱ С₃₃      ⎢⎢  ╲╱    ρ  ⎥⎥⎟  ⎜   ╱ С₃₃      ⎢⎢  ╲╱    ρ  \n",
       "⎢⎜0, 1, ⎢⎢1⎥⎥⎟, ⎜-  ╱  ─── , 1, ⎢⎢           ⎥⎥⎟, ⎜  ╱  ─── , 1, ⎢⎢           \n",
       "⎢⎜      ⎢⎢ ⎥⎥⎟  ⎜ ╲╱    ρ       ⎢⎢    С₁₃    ⎥⎥⎟  ⎜╲╱    ρ       ⎢⎢    С₁₃    \n",
       "⎢⎜      ⎢⎢0⎥⎥⎟  ⎜               ⎢⎢    ───    ⎥⎥⎟  ⎜              ⎢⎢    ───    \n",
       "⎢⎜      ⎢⎢ ⎥⎥⎟  ⎜               ⎢⎢    С₃₃    ⎥⎥⎟  ⎜              ⎢⎢    С₃₃    \n",
       "⎢⎝      ⎣⎣0⎦⎦⎠  ⎜               ⎢⎢           ⎥⎥⎟  ⎜              ⎢⎢           \n",
       "⎢               ⎜               ⎢⎢     0     ⎥⎥⎟  ⎜              ⎢⎢     0     \n",
       "⎢               ⎜               ⎢⎢           ⎥⎥⎟  ⎜              ⎢⎢           \n",
       "⎣               ⎝               ⎣⎣     1     ⎦⎦⎠  ⎝              ⎣⎣     1     \n",
       "\n",
       "⎤⎤⎞                                                                   ⎤\n",
       "⎥⎥⎟  ⎛               ⎡⎡     1     ⎤⎤⎞  ⎛              ⎡⎡    -1     ⎤⎤⎞⎥\n",
       "⎥⎥⎟  ⎜               ⎢⎢───────────⎥⎥⎟  ⎜              ⎢⎢───────────⎥⎥⎟⎥\n",
       "⎥⎥⎟  ⎜               ⎢⎢      _____⎥⎥⎟  ⎜              ⎢⎢      _____⎥⎥⎟⎥\n",
       "⎥⎥⎟  ⎜               ⎢⎢     ╱ С₄₄ ⎥⎥⎟  ⎜              ⎢⎢     ╱ С₄₄ ⎥⎥⎟⎥\n",
       "⎥⎥⎟  ⎜               ⎢⎢ρ⋅  ╱  ─── ⎥⎥⎟  ⎜              ⎢⎢ρ⋅  ╱  ─── ⎥⎥⎟⎥\n",
       "⎥⎥⎟  ⎜     _____     ⎢⎢  ╲╱    ρ  ⎥⎥⎟  ⎜    _____     ⎢⎢  ╲╱    ρ  ⎥⎥⎟⎥\n",
       "⎥⎥⎟  ⎜    ╱ С₄₄      ⎢⎢           ⎥⎥⎟  ⎜   ╱ С₄₄      ⎢⎢           ⎥⎥⎟⎥\n",
       "⎥⎥⎟, ⎜-  ╱  ─── , 1, ⎢⎢     0     ⎥⎥⎟, ⎜  ╱  ─── , 1, ⎢⎢     0     ⎥⎥⎟⎥\n",
       "⎥⎥⎟  ⎜ ╲╱    ρ       ⎢⎢           ⎥⎥⎟  ⎜╲╱    ρ       ⎢⎢           ⎥⎥⎟⎥\n",
       "⎥⎥⎟  ⎜               ⎢⎢     0     ⎥⎥⎟  ⎜              ⎢⎢     0     ⎥⎥⎟⎥\n",
       "⎥⎥⎟  ⎜               ⎢⎢           ⎥⎥⎟  ⎜              ⎢⎢           ⎥⎥⎟⎥\n",
       "⎥⎥⎟  ⎜               ⎢⎢     1     ⎥⎥⎟  ⎜              ⎢⎢     1     ⎥⎥⎟⎥\n",
       "⎥⎥⎟  ⎜               ⎢⎢           ⎥⎥⎟  ⎜              ⎢⎢           ⎥⎥⎟⎥\n",
       "⎥⎥⎟  ⎝               ⎣⎣     0     ⎦⎦⎠  ⎝              ⎣⎣     0     ⎦⎦⎠⎥\n",
       "⎦⎦⎠                                                                   ⎦"
      ]
     },
     "metadata": {},
     "output_type": "display_data"
    },
    {
     "name": "stdout",
     "output_type": "stream",
     "text": [
      "Matrix of eigenvalues LambdaY: \n"
     ]
    },
    {
     "data": {
      "text/latex": [
       "$\\displaystyle \\left[\\begin{matrix}0 & 0 & 0 & 0 & 0\\\\0 & - \\left(\\frac{С_{33}}{\\rho}\\right)^{0.5} & 0 & 0 & 0\\\\0 & 0 & \\left(\\frac{С_{33}}{\\rho}\\right)^{0.5} & 0 & 0\\\\0 & 0 & 0 & - \\left(\\frac{С_{44}}{\\rho}\\right)^{0.5} & 0\\\\0 & 0 & 0 & 0 & \\left(\\frac{С_{44}}{\\rho}\\right)^{0.5}\\end{matrix}\\right]$"
      ],
      "text/plain": [
       "⎡0      0         0          0         0    ⎤\n",
       "⎢                                           ⎥\n",
       "⎢         0.5                               ⎥\n",
       "⎢    ⎛С₃₃⎞                                  ⎥\n",
       "⎢0  -⎜───⎟        0          0         0    ⎥\n",
       "⎢    ⎝ ρ ⎠                                  ⎥\n",
       "⎢                                           ⎥\n",
       "⎢                   0.5                     ⎥\n",
       "⎢              ⎛С₃₃⎞                        ⎥\n",
       "⎢0      0      ⎜───⎟         0         0    ⎥\n",
       "⎢              ⎝ ρ ⎠                        ⎥\n",
       "⎢                                           ⎥\n",
       "⎢                              0.5          ⎥\n",
       "⎢                         ⎛С₄₄⎞             ⎥\n",
       "⎢0      0         0      -⎜───⎟        0    ⎥\n",
       "⎢                         ⎝ ρ ⎠             ⎥\n",
       "⎢                                           ⎥\n",
       "⎢                                        0.5⎥\n",
       "⎢                                   ⎛С₄₄⎞   ⎥\n",
       "⎢0      0         0          0      ⎜───⎟   ⎥\n",
       "⎣                                   ⎝ ρ ⎠   ⎦"
      ]
     },
     "metadata": {},
     "output_type": "display_data"
    },
    {
     "name": "stdout",
     "output_type": "stream",
     "text": [
      "OmegaY^(-1) matrix: \n"
     ]
    },
    {
     "data": {
      "text/latex": [
       "$\\displaystyle \\left[\\begin{matrix}0 & 0 & 0 & \\frac{1}{\\rho \\left(\\frac{С_{44}}{\\rho}\\right)^{0.5}} & - \\frac{1}{\\rho \\left(\\frac{С_{44}}{\\rho}\\right)^{0.5}}\\\\0 & \\frac{1}{\\rho \\left(\\frac{С_{33}}{\\rho}\\right)^{0.5}} & - \\frac{1}{\\rho \\left(\\frac{С_{33}}{\\rho}\\right)^{0.5}} & 0 & 0\\\\1 & \\frac{С_{13}}{С_{33}} & \\frac{С_{13}}{С_{33}} & 0 & 0\\\\0 & 0 & 0 & 1 & 1\\\\0 & 1 & 1 & 0 & 0\\end{matrix}\\right]$"
      ],
      "text/plain": [
       "⎡                                -0.5        -0.5 ⎤\n",
       "⎢                           ⎛С₄₄⎞       ⎛С₄₄⎞     ⎥\n",
       "⎢                           ⎜───⎟      -⎜───⎟     ⎥\n",
       "⎢                           ⎝ ρ ⎠       ⎝ ρ ⎠     ⎥\n",
       "⎢0      0           0       ─────────  ───────────⎥\n",
       "⎢                               ρ           ρ     ⎥\n",
       "⎢                                                 ⎥\n",
       "⎢        -0.5        -0.5                         ⎥\n",
       "⎢   ⎛С₃₃⎞       ⎛С₃₃⎞                             ⎥\n",
       "⎢   ⎜───⎟      -⎜───⎟                             ⎥\n",
       "⎢   ⎝ ρ ⎠       ⎝ ρ ⎠                             ⎥\n",
       "⎢0  ─────────  ───────────      0           0     ⎥\n",
       "⎢       ρ           ρ                             ⎥\n",
       "⎢                                                 ⎥\n",
       "⎢      С₁₃         С₁₃                            ⎥\n",
       "⎢1     ───         ───          0           0     ⎥\n",
       "⎢      С₃₃         С₃₃                            ⎥\n",
       "⎢                                                 ⎥\n",
       "⎢0      0           0           1           1     ⎥\n",
       "⎢                                                 ⎥\n",
       "⎣0      1           1           0           0     ⎦"
      ]
     },
     "metadata": {},
     "output_type": "display_data"
    },
    {
     "name": "stdout",
     "output_type": "stream",
     "text": [
      "OmegaY matrix: \n"
     ]
    },
    {
     "data": {
      "text/latex": [
       "$\\displaystyle \\left[\\begin{matrix}0 & 0 & 1 & 0 & - \\frac{С_{13}}{С_{33}}\\\\0 & \\frac{\\rho \\left(\\frac{С_{33}}{\\rho}\\right)^{0.5}}{2} & 0 & 0 & \\frac{1}{2}\\\\0 & - \\frac{\\rho \\left(\\frac{С_{33}}{\\rho}\\right)^{0.5}}{2} & 0 & 0 & \\frac{1}{2}\\\\\\frac{\\rho \\left(\\frac{С_{44}}{\\rho}\\right)^{0.5}}{2} & 0 & 0 & \\frac{1}{2} & 0\\\\- \\frac{\\rho \\left(\\frac{С_{44}}{\\rho}\\right)^{0.5}}{2} & 0 & 0 & \\frac{1}{2} & 0\\end{matrix}\\right]$"
      ],
      "text/plain": [
       "⎡                                    -С₁₃ ⎤\n",
       "⎢     0             0        1   0   ─────⎥\n",
       "⎢                                     С₃₃ ⎥\n",
       "⎢                                         ⎥\n",
       "⎢                      0.5                ⎥\n",
       "⎢                 ⎛С₃₃⎞                   ⎥\n",
       "⎢               ρ⋅⎜───⎟                   ⎥\n",
       "⎢                 ⎝ ρ ⎠                   ⎥\n",
       "⎢     0         ──────────   0   0    1/2 ⎥\n",
       "⎢                   2                     ⎥\n",
       "⎢                                         ⎥\n",
       "⎢                      0.5                ⎥\n",
       "⎢                 ⎛С₃₃⎞                   ⎥\n",
       "⎢              -ρ⋅⎜───⎟                   ⎥\n",
       "⎢                 ⎝ ρ ⎠                   ⎥\n",
       "⎢     0        ────────────  0   0    1/2 ⎥\n",
       "⎢                   2                     ⎥\n",
       "⎢                                         ⎥\n",
       "⎢        0.5                              ⎥\n",
       "⎢   ⎛С₄₄⎞                                 ⎥\n",
       "⎢ ρ⋅⎜───⎟                                 ⎥\n",
       "⎢   ⎝ ρ ⎠                                 ⎥\n",
       "⎢ ──────────        0        0  1/2    0  ⎥\n",
       "⎢     2                                   ⎥\n",
       "⎢                                         ⎥\n",
       "⎢        0.5                              ⎥\n",
       "⎢   ⎛С₄₄⎞                                 ⎥\n",
       "⎢-ρ⋅⎜───⎟                                 ⎥\n",
       "⎢   ⎝ ρ ⎠                                 ⎥\n",
       "⎢────────────       0        0  1/2    0  ⎥\n",
       "⎣     2                                   ⎦"
      ]
     },
     "metadata": {},
     "output_type": "display_data"
    },
    {
     "name": "stdout",
     "output_type": "stream",
     "text": [
      "OmegaY^(-1) * LambdaY * OmegaY: \n"
     ]
    },
    {
     "data": {
      "text/latex": [
       "$\\displaystyle \\left[\\begin{matrix}0 & 0 & 0 & - \\frac{1}{\\rho} & 0\\\\0 & 0 & 0 & 0 & - \\frac{1}{\\rho}\\\\0 & - \\frac{\\rho С_{13} \\left(\\frac{С_{33}}{\\rho}\\right)^{1.0}}{С_{33}} & 0 & 0 & 0\\\\- \\rho \\left(\\frac{С_{44}}{\\rho}\\right)^{1.0} & 0 & 0 & 0 & 0\\\\0 & - \\rho \\left(\\frac{С_{33}}{\\rho}\\right)^{1.0} & 0 & 0 & 0\\end{matrix}\\right]$"
      ],
      "text/plain": [
       "⎡                                  -1      ⎤\n",
       "⎢     0              0          0  ───   0 ⎥\n",
       "⎢                                   ρ      ⎥\n",
       "⎢                                          ⎥\n",
       "⎢                                       -1 ⎥\n",
       "⎢     0              0          0   0   ───⎥\n",
       "⎢                                        ρ ⎥\n",
       "⎢                                          ⎥\n",
       "⎢                         1.0              ⎥\n",
       "⎢                    ⎛С₃₃⎞                 ⎥\n",
       "⎢             -ρ⋅С₁₃⋅⎜───⎟                 ⎥\n",
       "⎢                    ⎝ ρ ⎠                 ⎥\n",
       "⎢     0       ────────────────  0   0    0 ⎥\n",
       "⎢                   С₃₃                    ⎥\n",
       "⎢                                          ⎥\n",
       "⎢        1.0                               ⎥\n",
       "⎢   ⎛С₄₄⎞                                  ⎥\n",
       "⎢-ρ⋅⎜───⎟            0          0   0    0 ⎥\n",
       "⎢   ⎝ ρ ⎠                                  ⎥\n",
       "⎢                                          ⎥\n",
       "⎢                       1.0                ⎥\n",
       "⎢                  ⎛С₃₃⎞                   ⎥\n",
       "⎢     0         -ρ⋅⎜───⎟        0   0    0 ⎥\n",
       "⎣                  ⎝ ρ ⎠                   ⎦"
      ]
     },
     "metadata": {},
     "output_type": "display_data"
    },
    {
     "name": "stdout",
     "output_type": "stream",
     "text": [
      "Again, Ay: \n"
     ]
    },
    {
     "data": {
      "text/latex": [
       "$\\displaystyle \\left[\\begin{matrix}0 & 0 & 0 & - \\frac{1}{\\rho} & 0\\\\0 & 0 & 0 & 0 & - \\frac{1}{\\rho}\\\\0 & - С_{13} & 0 & 0 & 0\\\\- С_{44} & 0 & 0 & 0 & 0\\\\0 & - С_{33} & 0 & 0 & 0\\end{matrix}\\right]$"
      ],
      "text/plain": [
       "⎡               -1      ⎤\n",
       "⎢ 0     0    0  ───   0 ⎥\n",
       "⎢                ρ      ⎥\n",
       "⎢                       ⎥\n",
       "⎢                    -1 ⎥\n",
       "⎢ 0     0    0   0   ───⎥\n",
       "⎢                     ρ ⎥\n",
       "⎢                       ⎥\n",
       "⎢ 0    -С₁₃  0   0    0 ⎥\n",
       "⎢                       ⎥\n",
       "⎢-С₄₄   0    0   0    0 ⎥\n",
       "⎢                       ⎥\n",
       "⎣ 0    -С₃₃  0   0    0 ⎦"
      ]
     },
     "metadata": {},
     "output_type": "display_data"
    }
   ],
   "source": [
    "# Проделаем аналитические выкладки, чтобы найти матрицы перехода в инварианты Римана\n",
    "# Импорт используемых модулей\n",
    "from sympy import Matrix, symbols, init_printing, diag\n",
    "init_printing()\n",
    "\n",
    "rho, C_11, C_13, C_33, C_44 = symbols(\"rho С_11 С_13 С_33 С_44\")\n",
    "print(\"Let's deal with 2D problem. Split along OX.\")\n",
    "Ax = Matrix([[0, 0, -1 / rho, 0, 0], [0, 0, 0, -1 / rho, 0], [-C_11, 0, 0, 0, 0], [0, -C_44, 0, 0, 0], [-C_13, 0, 0, 0, 0]]) # Создаём матрицу Ax \n",
    "print(\"The matrix Ax = \")\n",
    "display(Ax)\n",
    "l = Ax.eigenvals() # Вычисляем её собственные значения\n",
    "print(\"It has five eigenvalues: \")\n",
    "display(l)\n",
    "e = Ax.eigenvects() # Вычисляем её собственные вектора\n",
    "print(\"It has five eigenvectors: \")\n",
    "display(e)\n",
    "# Справедливо тождество Ax = OmegaX^(-1) * LambdaX * OmegaX\n",
    "# Заполняем матрицу OmegaX^(-1)\n",
    "tmp1 = C_11/(rho*C_13*(C_11/rho)**0.5)\n",
    "tmp2 = 1/(rho*(C_44/rho)**0.5)\n",
    "OmegaX_inv = Matrix([[0, 0, 0, 0, 1], [tmp1, 0, C_11/C_13, 0, 1], [-tmp1, 0, C_11/C_13, 0, 1], [0, tmp2, 0, 1, 0], [0, -tmp2, 0, 1, 0]]).transpose()\n",
    "OmegaX = OmegaX_inv.inv() # Вычисляем матрицу OmegaX\n",
    "LambdaX = diag(0, -(C_11/rho)**0.5, (C_11/rho)**0.5, -(C_44/rho)**0.5, (C_44/rho)**0.5) # Заполняем матрицу LambdaX\n",
    "# Проверим разложение\n",
    "print(\"Matrix of eigenvalues LambdaX: \")\n",
    "display(LambdaX)\n",
    "print(\"OmegaX^(-1) matrix: \")\n",
    "display(OmegaX_inv)\n",
    "print(\"OmegaX matrix: \")\n",
    "display(OmegaX)\n",
    "print(\"OmegaX^(-1) * LambdaX * OmegaX: \")\n",
    "display(OmegaX_inv * LambdaX * OmegaX)\n",
    "print(\"Again, Ax: \")\n",
    "display(Ax)\n",
    "\n",
    "print(\"Split along OY.\")\n",
    "Ay = Matrix([[0, 0, 0, -1 / rho, 0], [0, 0, 0, 0,-1 / rho], [0, -C_13, 0, 0, 0], [-C_44, 0, 0, 0, 0], [0, -C_33, 0, 0, 0]]) # Создаём матрицу Ay \n",
    "print(\"The matrix Ay = \")\n",
    "display(Ay)\n",
    "l = Ay.eigenvals() # Вычисляем её собственные значения\n",
    "print(\"It has five eigenvalues: \")\n",
    "display(l)\n",
    "e = Ay.eigenvects() # Вычисляем её собственные вектора\n",
    "print(\"It has five eigenvectors: \")\n",
    "display(e)\n",
    "# Cправедливо тождество Ay = OmegaY^(-1) * LambdaY * OmegaY\n",
    "tmp3 = 1/(rho*(C_33/rho)**0.5)\n",
    "tmp4 = 1/(rho*(C_44/rho)**0.5)\n",
    "OmegaY_inv = Matrix([[0, 0, 1, 0, 0], [0, tmp3, C_13/C_33, 0, 1], [0, -tmp3, C_13/C_33, 0, 1], [tmp4, 0, 0, 1, 0], [-tmp4, 0, 0, 1, 0]]).transpose() # Заполняем матрицу OmegaY^(-1)\n",
    "OmegaY = OmegaY_inv.inv() # Вычисляем матрицу OmegaY\n",
    "LambdaY = diag(0, -(C_33/rho)**0.5, (C_33/rho)**0.5, -(C_44/rho)**0.5, (C_44/rho)**0.5) # Заполняем матрицу LambdaY\n",
    "# Проверим разложение\n",
    "print(\"Matrix of eigenvalues LambdaY: \")\n",
    "display(LambdaY)\n",
    "print(\"OmegaY^(-1) matrix: \")\n",
    "display(OmegaY_inv)\n",
    "print(\"OmegaY matrix: \")\n",
    "display(OmegaY)\n",
    "print(\"OmegaY^(-1) * LambdaY * OmegaY: \")\n",
    "display(OmegaY_inv * LambdaY * OmegaY)\n",
    "print(\"Again, Ay: \")\n",
    "display(Ay)"
   ]
  },
  {
   "cell_type": "code",
   "execution_count": 21,
   "metadata": {},
   "outputs": [
    {
     "data": {
      "image/png": "[encoded data removed]",
      "text/plain": [
       "<Figure size 432x288 with 2 Axes>"
      ]
     },
     "metadata": {
      "needs_background": "light"
     },
     "output_type": "display_data"
    }
   ],
   "source": [
    "# Импортируем numpy для хранения результатов расчётов\n",
    "import numpy as np\n",
    "\n",
    "# Импортируем модуль matplolib для визуализации результатов\n",
    "import matplotlib.pyplot as plt\n",
    "\n",
    "# Определим параметры 2D  задачи\n",
    "L = 2.0 # x = [-1,1]\n",
    "rho = 3200.0 # плотность в кг/м^3\n",
    "C_11 = 16.7*10**10\n",
    "C_13 = 6.6*10**10\n",
    "C_33 = 14*10**10\n",
    "C_44 = 6.63*10**10\n",
    "T = 0.000040 # 1 полный оборот начального возмущения\n",
    "M = 50 # количество узлов вдоль оси\n",
    "nx = M\n",
    "ny = M\n",
    "h = L / M # шаг по координате, h\n",
    "dt = 0.000001 # коэффициент должен быть меньше единицы\n",
    "# В каждом узле мы храним тензор напряжений и значения скорости среды\n",
    "data_current = np.zeros((M, M), dtype=[('vx', np.float64), ('vy', np.float64), ('s_xx', np.float64), ('s_xy', np.float64), ('s_yy', np.float64)])\n",
    "data_next = np.zeros((M, M), dtype=[('vx', np.float64), ('vy', np.float64), ('s_xx', np.float64), ('s_xy', np.float64), ('s_yy', np.float64)])\n",
    "\n",
    "# Определим теперь функции, которые на основании OmegaX и OmegaX^(-1) умеют нам возвращать трансформированный вектор\n",
    "def OmegaX(q):\n",
    "    vx, vy, s_xx, s_xy, s_yy = q\n",
    "    return (-C_13/C_11 * s_xx + s_yy, C_13/2*(rho/C_11)**0.5 * vx + C_13/2/C_11 * s_xx, -C_13/2*(rho/C_11)**0.5 * vx + C_13/2/C_11 * s_xx, 1/2*(rho*C_44) * vy + s_xy/2, -1/2*(rho*C_44) * vy + s_xy/2)\n",
    "\n",
    "def OmegaXInv(w1, w2, w3, w4, w5):\n",
    "    return (1/C_13*(C_11/rho)**0.5 * (w2 - w3), 1/(rho*C_44)**0.5 * (w4 - w5), C_11/C_13 * (w2 + w3), w4 + w5, w1 + w2 + w3)\n",
    "\n",
    "# Определим теперь функции, которые на основании OmegaY и OmegaY^(-1) умеют нам возвращать трансформированный вектор\n",
    "def OmegaY(q):\n",
    "    vx, vy, s_xx, s_xy, s_yy = q\n",
    "    return (s_xx - C_13/C_33 * s_yy, (rho*C_33)**0.5/2 * vy + s_yy/2, -(rho*C_33)**0.5/2 * vy + s_yy/2, (rho*C_44)**0.5/2 * vx + s_xy/2, -(rho*C_44)**0.5/2 * vx + s_xy/2)\n",
    "\n",
    "def OmegaYInv(w1, w2, w3, w4, w5):\n",
    "    return (1/(rho*C_44)**0.5 * (w4 - w5), 1/(rho*C_33)**0.5 * (w2 - w3), w1 + C_11/C_33 * (w2 + w3), w4 + w5, w2 + w3)\n",
    "\n",
    "# Начальные значения в виде круговой области нагружения\n",
    "for j in range(ny):\n",
    "    for i in range(nx):\n",
    "        x = -1.0 + i * h\n",
    "        y = -1.0 + j * h\n",
    "        if (x * x + y * y < 0.1):\n",
    "            data_current[j, i]['s_yy'] = 1.0\n",
    "            \n",
    "# Начальные значения в виде плоской наклонной волны под 45 градусов\n",
    "#for j in range(ny):\n",
    "#    for i in range(nx):\n",
    "#       x = -1.0 + i * h\n",
    "#       y = -1.0 + j * h\n",
    "#       if ( abs(x+y) < 0.1):\n",
    "#            data_current[j, i]['vx'] = 1.0 / np.sqrt(2.0) / rho / c\n",
    "#            data_current[j, i]['vy'] = 1.0 / np.sqrt(2.0) / rho / c\n",
    "#            data_current[j, i]['p'] =  1.0\n",
    "\n",
    "# Рисуем график до начала расчёта\n",
    "fig, ax = plt.subplots()\n",
    "ax.set_title('Распределение давления в начальный момент времени')\n",
    "_ = ax.set_xlabel('Вдоль OX')\n",
    "_ = ax.set_ylabel('Вдоль OY')\n",
    "img = ax.imshow(data_current['s_xx'], vmin = 0, vmax = 1, origin = 'lower')\n",
    "_ = fig.colorbar(img)\n",
    "\n",
    "# Расчёт\n",
    "for k in range(int(T / dt)):\n",
    "    # Шаг по X\n",
    "    for j in range(ny):\n",
    "        for i in range(nx):\n",
    "            #data_next[j, i] = data_current[j, i] # Удобно для отладки\n",
    "            #continue\n",
    "            # Переходим в инварианты Римана\n",
    "            w1, w2, w3, w4, w5   = OmegaX(data_current[j, i])\n",
    "            if i == 0: # Левая граница области\n",
    "                w1p, w2p, w3p, w4p, w5p = OmegaX(data_current[j, M - 1])\n",
    "                w1n, w2n, w3n, w4n, w5n = OmegaX(data_current[j, i + 1])\n",
    "            elif i == nx - 1: # Правая граница области\n",
    "                w1n, w2n, w3n, w4n, w5n = OmegaX(data_current[j, 0])\n",
    "                w1p, w2p, w3p, w4p, w5p = OmegaX(data_current[j, i - 1])\n",
    "            else: # Внутри области\n",
    "                w1p, w2p, w3p, w4p, w5p = OmegaX(data_current[j, i - 1])\n",
    "                w1n, w2n, w3n, w4n, w5n = OmegaX(data_current[j, i + 1])\n",
    "            # Решаем уравнения переноса на инварианты \n",
    "            w1_new = w1 # собственное значение 0, не изменяется\n",
    "            w2_new = w2 + (C_11/rho)**0.5 * dt / h * (w2n - w2)\n",
    "            w3_new = w3 - (C_11/rho)**0.5 * dt / h * (w3 - w3p)\n",
    "            w4_new = w4 + (C_44/rho)**0.5 * dt / h * (w4n - w4)\n",
    "            w5_new = w5 - (C_44/rho)**0.5 * dt / h * (w5 - w5p)\n",
    "            # Возвращаемся в исходные переменные\n",
    "            data_next[j, i]['vx'], data_next[j, i]['vy'], data_next[j, i]['s_xx'], data_next[j, i]['s_xy'], data_next[j, i]['s_yy'] = OmegaXInv(w1_new, w2_new, w3_new, w4_new, w5_new)\n",
    "    \n",
    "    # Шаг по Y\n",
    "    for j in range(ny):\n",
    "        for i in range(nx):\n",
    "            #data_current[j, i] = data_next[j, i] # Удобно для отладки\n",
    "            #continue\n",
    "            # Переходим в инварианты Римана\n",
    "            w1, w2, w3, w4, w5   = OmegaY(data_next[j, i])\n",
    "            if j == 0: # Левая граница области\n",
    "                w1p, w2p, w3p, w4p, w5p = OmegaY(data_next[M - 1, i])\n",
    "                w1n, w2n, w3n, w4n, w5n = OmegaY(data_next[j + 1, i])\n",
    "            elif j == ny - 1: # Правая граница области\n",
    "                w1n, w2n, w3n, w4n, w5n = OmegaY(data_next[0, i])\n",
    "                w1p, w2p, w3p, w4p, w5p = OmegaY(data_next[j - 1, i])\n",
    "            else: # Внутри области\n",
    "                w1p, w2p, w3p, w4p, w5p = OmegaY(data_next[j - 1, i])\n",
    "                w1n, w2n, w3n, w4n, w5n = OmegaY(data_next[j + 1, i])\n",
    "            # Решаем уравнения переноса на инварианты (правильно-сторонний шаблон)\n",
    "            w1_new = w1 # собственное значение 0, не изменяется\n",
    "            w2_new = w2 + (C_33/rho)**0.5 * dt / h * (w2n - w2)\n",
    "            w3_new = w3 - (C_33/rho)**0.5 * dt / h * (w3 - w3p)\n",
    "            w4_new = w4 + (C_44/rho)**0.5 * dt / h * (w4n - w4)\n",
    "            w5_new = w5 - (C_44/rho)**0.5 * dt / h * (w5 - w5p)\n",
    "            # Возвращаемся в исходные переменные\n",
    "            data_current[j, i]['vx'], data_current[j, i]['vy'], data_current[j, i]['s_xx'], data_current[j, i]['s_xy'], data_current[j, i]['s_yy'] = OmegaYInv(w1_new, w2_new, w3_new, w4_new, w5_new)\n",
    "    "
   ]
  },
  {
   "cell_type": "code",
   "execution_count": 22,
   "metadata": {},
   "outputs": [
    {
     "name": "stderr",
     "output_type": "stream",
     "text": [
      "<ipython-input-22-4ff97e372dc8>:15: RuntimeWarning: overflow encountered in square\n",
      "  img_0 = axs[0].imshow(data_current['vx'] ** 2 + data_current['vy'] ** 2, origin = 'lower')\n"
     ]
    },
    {
     "data": {
      "image/png": "[encoded data removed]",
      "text/plain": [
       "<Figure size 432x288 with 2 Axes>"
      ]
     },
     "metadata": {
      "needs_background": "light"
     },
     "output_type": "display_data"
    },
    {
     "data": {
      "image/png": "[encoded data removed]",
      "text/plain": [
       "<Figure size 720x720 with 6 Axes>"
      ]
     },
     "metadata": {
      "needs_background": "light"
     },
     "output_type": "display_data"
    }
   ],
   "source": [
    "# Рисуем графики по окончанию расчёта\n",
    "fig, ax = plt.subplots()\n",
    "ax.set_title('Распределение давления в конечный момент времени')\n",
    "_ = ax.set_xlabel('Вдоль OX')\n",
    "_ = ax.set_ylabel('Вдоль OY')\n",
    "img = ax.imshow(data_current['s_xx'], origin = 'lower')\n",
    "_ = fig.colorbar(img)\n",
    "\n",
    "# Проанализируем скорость\n",
    "fig, axs = plt.subplots(3, 1, figsize=(10, 10))\n",
    "\n",
    "axs[0].set_title('Распределение модуля скорости')\n",
    "_ = axs[0].set_xlabel('Вдоль OX')\n",
    "_ = axs[0].set_ylabel('Вдоль OY')\n",
    "img_0 = axs[0].imshow(data_current['vx'] ** 2 + data_current['vy'] ** 2, origin = 'lower')\n",
    "_ = fig.colorbar(img_0, ax = axs[0])\n",
    "\n",
    "axs[1].set_title('Распределение Vx')\n",
    "_ = axs[1].set_xlabel('Вдоль OX')\n",
    "_ = axs[1].set_ylabel('Вдоль OY')\n",
    "img_1 = axs[1].imshow(data_current['vx'], origin = 'lower')\n",
    "_ = fig.colorbar(img_1, label = 'м/с', ax = axs[1])\n",
    "\n",
    "axs[2].set_title('Распределение Vy')\n",
    "_ = axs[2].set_xlabel('Вдоль OX')\n",
    "_ = axs[2].set_ylabel('Вдоль OY')\n",
    "img_2 = axs[2].imshow(data_current['vy'], origin = 'lower')\n",
    "_ = fig.colorbar(img_2, label = 'м/с', ax = axs[2])\n",
    "fig.tight_layout(pad = 2)"
   ]
  },
  {
   "cell_type": "code",
   "execution_count": null,
   "metadata": {},
   "outputs": [],
   "source": []
  }
 ],
 "metadata": {
  "kernelspec": {
   "display_name": "Python 3",
   "language": "python",
   "name": "python3"
  },
  "language_info": {
   "codemirror_mode": {
    "name": "ipython",
    "version": 3
   },
   "file_extension": ".py",
   "mimetype": "text/x-python",
   "name": "python",
   "nbconvert_exporter": "python",
   "pygments_lexer": "ipython3",
   "version": "3.8.5"
  }
 },
 "nbformat": 4,
 "nbformat_minor": 4
}
